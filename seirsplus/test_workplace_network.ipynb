{
 "cells": [
  {
   "cell_type": "code",
   "execution_count": 1,
   "metadata": {},
   "outputs": [],
   "source": [
    "from __future__ import division\n",
    "# from models import *\n",
    "from extended_models import *\n",
    "from networks import *\n",
    "from sim_loops import *\n",
    "import networkx\n",
    "import pickle\n",
    "import gzip\n",
    "import pandas\n",
    "from scipy.stats import linregress"
   ]
  },
  {
   "cell_type": "code",
   "execution_count": 2,
   "metadata": {},
   "outputs": [],
   "source": [
    "import matplotlib.pyplot as pyplot\n",
    "# pyplot.switch_backend('agg')\n",
    "import seaborn\n",
    "seaborn.set_style('ticks')"
   ]
  },
  {
   "cell_type": "code",
   "execution_count": 3,
   "metadata": {},
   "outputs": [],
   "source": [
    "import argparse\n",
    "\n",
    "parser  = argparse.ArgumentParser()\n",
    "parser.add_argument(\"-runID\",                         \"--runID\",                          default=\"notebook\",     type=str)\n",
    "parser.add_argument(\"-T\",                             \"--T\",                              default=300,          type=float)\n",
    "parser.add_argument(\"-N\",                             \"--N\",                              default=500,        type=int)\n",
    "parser.add_argument(\"-INIT_PCT_E\",                    \"--INIT_PCT_E\",                     default=(1/500),    type=float)\n",
    "parser.add_argument(\"-INTERVENTION_START_PCT_INFECTED\", \"--INTERVENTION_START_PCT_INFECTED\", default=(1/500),   type=float)\n",
    "parser.add_argument(\"-R0_mean\",                       \"--R0_mean\",                        default=2.0,          type=float)\n",
    "parser.add_argument(\"-R0_coeffvar\",                   \"--R0_coeffvar\",                    default=0.2,          type=float)\n",
    "parser.add_argument(\"-PCT_ASYMPTOMATIC\",              \"--PCT_ASYMPTOMATIC\",               default=0.25,          type=float)\n",
    "parser.add_argument(\"-P_GLOBALINTXN\",                 \"--P_GLOBALINTXN\",                  default=0.1,         type=float)\n",
    "parser.add_argument(\"-Q_GLOBALINTXN\",                 \"--Q_GLOBALINTXN\",                  default=0.0,          type=float)\n",
    "parser.add_argument(\"-O_GLOBALINTXN\",                 \"--O_GLOBALINTXN\",                  default=0.0,         type=float)\n",
    "parser.add_argument(\"-PREVALENCE_EXT\",                \"--PREVALENCE_EXT\",                 default=0.00,         type=float)\n",
    "parser.add_argument(\"-TESTING_INTERVAL\",              \"--TESTING_INTERVAL\",               default=1,            type=float)\n",
    "parser.add_argument(\"-FRAC_TO_TEST_PER_INTERVAL\",     \"--FRAC_TO_TEST_PER_INTERVAL\",      default=(1/7),       type=float)\n",
    "parser.add_argument(\"-TEST_FALSENEG_RATE\",            \"--TEST_FALSENEG_RATE\",             default='temporal',   type=str)\n",
    "parser.add_argument(\"-TESTING_RANDOM_COMPLIANCE_RATE\",          \"--TESTING_RANDOM_COMPLIANCE_RATE\",          default=1.0, type=float)\n",
    "parser.add_argument(\"-TESTING_TRACED_COMPLIANCE_RATE\",          \"--TESTING_TRACED_COMPLIANCE_RATE\",          default=1.0, type=float)\n",
    "parser.add_argument(\"-TESTING_SELFSEEK_COMPLIANCE_RATE\",        \"--TESTING_SELFSEEK_COMPLIANCE_RATE\",        default=1.0, type=float)\n",
    "parser.add_argument(\"-TESTING_DEGREE_BIAS\",           \"--TESTING_DEGREE_BIAS\",            default=0,            type=float)\n",
    "parser.add_argument(\"-MAX_PCT_TESTS_FOR_TRACING\",     \"--MAX_PCT_TESTS_FOR_TRACING\",      default=1.0,          type=float)\n",
    "parser.add_argument(\"-TRACING_COMPLIANCE_RATE\",       \"--TRACING_COMPLIANCE_RATE\",        default=1.0,          type=float)\n",
    "parser.add_argument(\"-NUM_CONTACTS_TO_TRACE\",         \"--NUM_CONTACTS_TO_TRACE\",          default=None,         type=float)\n",
    "parser.add_argument(\"-FRAC_CONTACTS_TO_TRACE\",        \"--FRAC_CONTACTS_TO_TRACE\",         default=1.0,          type=float)\n",
    "parser.add_argument(\"-TRACING_INTERVAL_LAG\",          \"--TRACING_INTERVAL_LAG\",           default=2,            type=int)\n",
    "parser.add_argument(\"-MAX_PCT_TESTS_FOR_SEEKING\",     \"--MAX_PCT_TESTS_FOR_SEEKING\",      default=1.0,          type=float)\n",
    "parser.add_argument(\"-SYMPTOMATIC_SEEKTEST_COMPLIANCE_RATE\",    \"--SYMPTOMATIC_SEEKTEST_COMPLIANCE_RATE\",     default=1.0, type=float)\n",
    "parser.add_argument(\"-SYMPTOMATIC_SELFISOLATE_COMPLIANCE_RATE\", \"--SYMPTOMATIC_SELFISOLATE_COMPLIANCE_RATE\",  default=1.0, type=float)\n",
    "parser.add_argument(\"-TRACING_SELFISOLATE_COMPLIANCE_RATE\",     \"--TRACING_SELFISOLATE_COMPLIANCE_RATE\",      default=1.0, type=float)\n",
    "parser.add_argument(\"-DO_RANDOM_TESTING\",             \"--DO_RANDOM_TESTING\",              default=True,         type=int)\n",
    "parser.add_argument(\"-DO_TRACING_TESTING\",            \"--DO_TRACING_TESTING\",             default=True,         type=int)\n",
    "parser.add_argument(\"-DO_SEEKING_TESTING\",            \"--DO_SEEKING_TESTING\",             default=True,         type=int)\n",
    "parser.add_argument(\"-DO_SYMPTOM_SELFISO\",            \"--DO_SYMPTOM_SELFISO\",             default=True,         type=int)\n",
    "parser.add_argument(\"-DO_TRACING_SELFISO\",            \"--DO_TRACING_SELFISO\",             default=False,        type=int)\n",
    "parser.add_argument(\"-DO_ISOLATE_POSITIVE_COHORTS\",   \"--DO_ISOLATE_POSITIVE_COHORTS\",    default=False,        type=int)\n",
    "parser.add_argument(\"-DO_ISOLATE_POSITIVE_TEAMS\",     \"--DO_ISOLATE_POSITIVE_TEAMS\",      default=True,        type=int)\n",
    "parser.add_argument(\"-COHORT_ISOLATION_COMPLIANCE_RATE\", \"--COHORT_ISOLATION_COMPLIANCE_RATE\",                default=1.0, type=float)\n",
    "parser.add_argument(\"-TEAM_ISOLATION_COMPLIANCE_RATE\", \"--TEAM_ISOLATION_COMPLIANCE_RATE\",                default=1.0, type=float)\n",
    "parser.add_argument(\"-BETA_PAIRWISE_MODE\",            \"--BETA_PAIRWISE_MODE\",             default='mean',       type=str)\n",
    "parser.add_argument(\"-ALPHA_PAIRWISE_MODE\",           \"--ALPHA_PAIRWISE_MODE\",            default='mean',       type=str)\n",
    "parser.add_argument(\"-TRANSITION_MODE\",               \"--TRANSITION_MODE\",                default='exponential_rates',       type=str)\n",
    "\n",
    "args, unknown = parser.parse_known_args()"
   ]
  },
  {
   "cell_type": "code",
   "execution_count": 4,
   "metadata": {},
   "outputs": [],
   "source": [
    "runID           = str(args.runID)\n",
    "\n",
    "outdir          = \"./\" \n",
    "figdir          = \"./\" \n",
    "\n",
    "T = args.T\n",
    "\n",
    "N = int(args.N)\n",
    "\n",
    "INIT_PCT_E   = args.INIT_PCT_E\n",
    "INIT_EXPOSED = max(int(N*INIT_PCT_E), 0)\n",
    "\n",
    "INTERVENTION_START_PCT_INFECTED = args.INTERVENTION_START_PCT_INFECTED\n",
    "\n",
    "R0_mean      = args.R0_mean\n",
    "R0_coeffvar  = args.R0_coeffvar\n",
    "\n",
    "PCT_ASYMPTOMATIC = args.PCT_ASYMPTOMATIC\n",
    "\n",
    "P_GLOBALINTXN = args.P_GLOBALINTXN\n",
    "Q_GLOBALINTXN = args.Q_GLOBALINTXN\n",
    "O_GLOBALINTXN = args.O_GLOBALINTXN\n",
    "\n",
    "PREVALENCE_EXT = args.PREVALENCE_EXT\n",
    "\n",
    "TESTING_INTERVAL          = args.TESTING_INTERVAL\n",
    "FRAC_TO_TEST_PER_INTERVAL = args.FRAC_TO_TEST_PER_INTERVAL\n",
    "TESTS_PER_INTERVAL        = int(N*FRAC_TO_TEST_PER_INTERVAL)\n",
    "TESTING_DEGREE_BIAS       = args.TESTING_DEGREE_BIAS\n",
    "\n",
    "TEST_FALSENEG_RATE        = args.TEST_FALSENEG_RATE if args.TEST_FALSENEG_RATE == \"temporal\" else float(args.TEST_FALSENEG_RATE)\n",
    "\n",
    "TESTING_RANDOM_COMPLIANCE_RATE   = args.TESTING_RANDOM_COMPLIANCE_RATE\n",
    "TESTING_TRACED_COMPLIANCE_RATE   = args.TESTING_TRACED_COMPLIANCE_RATE\n",
    "TESTING_SELFSEEK_COMPLIANCE_RATE = args.TESTING_SELFSEEK_COMPLIANCE_RATE\n",
    "\n",
    "MAX_PCT_TESTS_FOR_TRACING = args.MAX_PCT_TESTS_FOR_TRACING\n",
    "TRACING_COMPLIANCE_RATE   = args.TRACING_COMPLIANCE_RATE\n",
    "NUM_CONTACTS_TO_TRACE     = args.NUM_CONTACTS_TO_TRACE # If None, trace based on fraction of contacts given below\n",
    "FRAC_CONTACTS_TO_TRACE    = args.FRAC_CONTACTS_TO_TRACE\n",
    "TRACING_INTERVAL_LAG      = args.TRACING_INTERVAL_LAG\n",
    "\n",
    "MAX_PCT_TESTS_FOR_SEEKING = args.MAX_PCT_TESTS_FOR_SEEKING\n",
    "\n",
    "SYMPTOMATIC_SEEKTEST_COMPLIANCE_RATE    = args.SYMPTOMATIC_SEEKTEST_COMPLIANCE_RATE\n",
    "SYMPTOMATIC_SELFISOLATE_COMPLIANCE_RATE = args.SYMPTOMATIC_SELFISOLATE_COMPLIANCE_RATE\n",
    "TRACING_SELFISOLATE_COMPLIANCE_RATE     = args.TRACING_SELFISOLATE_COMPLIANCE_RATE\n",
    "\n",
    "DO_RANDOM_TESTING   = args.DO_RANDOM_TESTING\n",
    "DO_TRACING_TESTING  = args.DO_TRACING_TESTING\n",
    "DO_SEEKING_TESTING  = args.DO_SEEKING_TESTING\n",
    "DO_SYMPTOM_SELFISO  = args.DO_SYMPTOM_SELFISO\n",
    "DO_TRACING_SELFISO  = args.DO_TRACING_SELFISO\n",
    "\n",
    "DO_ISOLATE_POSITIVE_COHORTS      = args.DO_ISOLATE_POSITIVE_COHORTS\n",
    "DO_ISOLATE_POSITIVE_TEAMS        = args.DO_ISOLATE_POSITIVE_TEAMS\n",
    "COHORT_ISOLATION_COMPLIANCE_RATE = args.COHORT_ISOLATION_COMPLIANCE_RATE\n",
    "TEAM_ISOLATION_COMPLIANCE_RATE   = args.TEAM_ISOLATION_COMPLIANCE_RATE\n",
    "\n",
    "BETA_PAIRWISE_MODE  = args.BETA_PAIRWISE_MODE\n",
    "ALPHA_PAIRWISE_MODE = args.ALPHA_PAIRWISE_MODE\n",
    "TRANSITION_MODE     = args.TRANSITION_MODE\n",
    "\n",
    "runStr = (\"workplacesim_\"+runID)"
   ]
  },
  {
   "cell_type": "code",
   "execution_count": 5,
   "metadata": {},
   "outputs": [],
   "source": [
    "farz_params={'alpha':    5.0,      # clustering param\n",
    "             'gamma':    5.0,       # assortativity param\n",
    "             'beta':     0.7,       # prob within community edges\n",
    "             'r':        2,         # max num communities node can be part of\n",
    "             'q':        0.3,       # probability of multi-community membership\n",
    "             'phi':      10,         # community size similarity (1 gives power law community sizes)\n",
    "             'b':        0, \n",
    "             'epsilon':  1e-6, \n",
    "             'directed': False, \n",
    "             'weighted': False}\n",
    "\n",
    "G, cohorts, teams = generate_workplace_contact_network(num_cohorts=5, num_nodes_per_cohort=100, num_teams_per_cohort=10,\n",
    "                                       mean_intracohort_degree=6, pct_contacts_intercohort=0.2,\n",
    "                                       farz_params=farz_params)\n",
    "\n",
    "G_Q = networkx.classes.function.create_empty_copy(G)"
   ]
  },
  {
   "cell_type": "code",
   "execution_count": 6,
   "metadata": {},
   "outputs": [
    {
     "name": "stdout",
     "output_type": "stream",
     "text": [
      "baseline graph mean degree       = 11.352\n",
      "baseline graph median degree     = 10.0\n",
      "baseline graph CV^2 degree       = 0.44929803467588025\n",
      "baseline graph assortativity     = 0.12135079967922288\n",
      "baseline graph clustering coeff  = 0.260508708647\n"
     ]
    },
    {
     "data": {
      "image/png": "[encoded data removed]",
      "text/plain": [
       "<matplotlib.figure.Figure at 0x11bb7b750>"
      ]
     },
     "metadata": {},
     "output_type": "display_data"
    }
   ],
   "source": [
    "degree      = [d[1] for d in G.degree()]\n",
    "mean_degree = numpy.mean(degree)\n",
    "median_degree = numpy.median(degree)\n",
    "max_degree  = numpy.max(degree)\n",
    "CV_degree   = numpy.std(degree)/mean_degree\n",
    "print \"baseline graph mean degree       = \" + str(mean_degree)\n",
    "print \"baseline graph median degree     = \" + str(median_degree)\n",
    "print \"baseline graph CV^2 degree       = \" + str(CV_degree**2)\n",
    "\n",
    "r = networkx.degree_assortativity_coefficient(G)\n",
    "print \"baseline graph assortativity     = \" + str(r)\n",
    "\n",
    "c = networkx.average_clustering(G)\n",
    "print \"baseline graph clustering coeff  = \" + str(c)\n",
    "\n",
    "plot_degree_distn(G)"
   ]
  },
  {
   "cell_type": "code",
   "execution_count": 7,
   "metadata": {},
   "outputs": [
    {
     "name": "stdout",
     "output_type": "stream",
     "text": [
      "{'c3': [300, 301, 302, 303, 304, 305, 306, 307, 308, 309, 310, 311, 312, 313, 314, 315, 316, 317, 318, 319, 320, 321, 322, 323, 324, 325, 326, 327, 328, 329, 330, 331, 332, 333, 334, 335, 336, 337, 338, 339, 340, 341, 342, 343, 344, 345, 346, 347, 348, 349, 350, 351, 352, 353, 354, 355, 356, 357, 358, 359, 360, 361, 362, 363, 364, 365, 366, 367, 368, 369, 370, 371, 372, 373, 374, 375, 376, 377, 378, 379, 380, 381, 382, 383, 384, 385, 386, 387, 388, 389, 390, 391, 392, 393, 394, 395, 396, 397, 398], 'c2': [200, 201, 202, 203, 204, 205, 206, 207, 208, 209, 210, 211, 212, 213, 214, 215, 216, 217, 218, 219, 220, 221, 222, 223, 224, 225, 226, 227, 228, 229, 230, 231, 232, 233, 234, 235, 236, 237, 238, 239, 240, 241, 242, 243, 244, 245, 246, 247, 248, 249, 250, 251, 252, 253, 254, 255, 256, 257, 258, 259, 260, 261, 262, 263, 264, 265, 266, 267, 268, 269, 270, 271, 272, 273, 274, 275, 276, 277, 278, 279, 280, 281, 282, 283, 284, 285, 286, 287, 288, 289, 290, 291, 292, 293, 294, 295, 296, 297, 298], 'c1': [100, 101, 102, 103, 104, 105, 106, 107, 108, 109, 110, 111, 112, 113, 114, 115, 116, 117, 118, 119, 120, 121, 122, 123, 124, 125, 126, 127, 128, 129, 130, 131, 132, 133, 134, 135, 136, 137, 138, 139, 140, 141, 142, 143, 144, 145, 146, 147, 148, 149, 150, 151, 152, 153, 154, 155, 156, 157, 158, 159, 160, 161, 162, 163, 164, 165, 166, 167, 168, 169, 170, 171, 172, 173, 174, 175, 176, 177, 178, 179, 180, 181, 182, 183, 184, 185, 186, 187, 188, 189, 190, 191, 192, 193, 194, 195, 196, 197, 198], 'c0': [0, 1, 2, 3, 4, 5, 6, 7, 8, 9, 10, 11, 12, 13, 14, 15, 16, 17, 18, 19, 20, 21, 22, 23, 24, 25, 26, 27, 28, 29, 30, 31, 32, 33, 34, 35, 36, 37, 38, 39, 40, 41, 42, 43, 44, 45, 46, 47, 48, 49, 50, 51, 52, 53, 54, 55, 56, 57, 58, 59, 60, 61, 62, 63, 64, 65, 66, 67, 68, 69, 70, 71, 72, 73, 74, 75, 76, 77, 78, 79, 80, 81, 82, 83, 84, 85, 86, 87, 88, 89, 90, 91, 92, 93, 94, 95, 96, 97, 98], 'c4': [400, 401, 402, 403, 404, 405, 406, 407, 408, 409, 410, 411, 412, 413, 414, 415, 416, 417, 418, 419, 420, 421, 422, 423, 424, 425, 426, 427, 428, 429, 430, 431, 432, 433, 434, 435, 436, 437, 438, 439, 440, 441, 442, 443, 444, 445, 446, 447, 448, 449, 450, 451, 452, 453, 454, 455, 456, 457, 458, 459, 460, 461, 462, 463, 464, 465, 466, 467, 468, 469, 470, 471, 472, 473, 474, 475, 476, 477, 478, 479, 480, 481, 482, 483, 484, 485, 486, 487, 488, 489, 490, 491, 492, 493, 494, 495, 496, 497, 498]}\n"
     ]
    }
   ],
   "source": [
    "print cohorts"
   ]
  },
  {
   "cell_type": "code",
   "execution_count": 8,
   "metadata": {},
   "outputs": [
    {
     "name": "stdout",
     "output_type": "stream",
     "text": [
      "{'c3-t0': [302, 315, 322, 334, 336, 342, 345, 350, 354, 358, 360, 362, 366, 368, 370, 373, 377, 379, 381, 396], 'c3-t7': [303, 305, 306, 319, 332, 346, 372, 385, 390, 392, 394, 399], 'c3-t3': [312, 321, 333, 339, 357, 367, 373, 378, 391], 'c3-t4': [309, 313, 314, 330, 353, 355, 364, 365, 374, 375, 386], 'c1-t2': [100, 110, 111, 112, 113, 114, 118, 120, 121, 130, 138, 149, 152, 160, 176, 179, 180, 190, 191], 'c3-t6': [304, 313, 321, 335, 351, 362, 371, 380], 'c2-t5': [214, 220, 221, 226, 233, 235, 242, 244, 246, 248, 257, 280, 281, 288, 289, 293, 298], 'c2-t4': [208, 214, 231, 256, 262, 265, 287, 291, 292, 293], 'c2-t7': [202, 204, 209, 210, 213, 224, 230, 234, 241, 251, 255, 264, 276, 277, 278, 283, 285, 288, 291, 299], 'c2-t6': [207, 218, 229, 238, 247, 267, 273, 275, 295], 'c2-t1': [204, 205, 206, 218, 243, 245, 247, 254, 271, 279], 'c2-t0': [220, 237, 249, 253, 254, 260, 264, 265, 272, 286], 'c2-t3': [201, 215, 222, 223, 232, 236, 239, 242, 248, 257, 268, 274, 280, 292, 294, 298], 'c2-t2': [211, 219, 223, 250, 251, 252, 258, 270, 290, 294, 297], 'c2-t9': [200, 201, 209, 217, 235, 240, 266, 275, 282, 283, 284, 289, 296, 297, 299], 'c2-t8': [203, 212, 216, 225, 227, 228, 231, 239, 258, 259, 261, 263, 269, 278, 296], 'c3-t9': [307, 315, 316, 323, 348, 366, 368, 376, 397], 'c1-t4': [102, 139, 159, 172, 179], 'c1-t5': [105, 112, 117, 120, 122, 128, 134, 136, 142, 150, 152, 154, 157, 183, 188, 191, 193, 194, 199], 'c1-t6': [106, 134, 144, 146, 162, 166, 169, 195], 'c3-t1': [311, 312, 317, 319, 325, 331, 338, 340, 351, 352, 359, 363, 370, 377, 382, 392], 'c1-t7': [119, 122, 126, 148, 151, 155, 160, 188], 'c1-t0': [108, 110, 115, 127, 133, 137, 147, 169, 174, 178, 199], 'c1-t1': [102, 104, 117, 129, 131, 133, 150, 153, 158, 164, 165, 173, 193], 'c0-t7': [14, 30, 40, 41, 47, 51, 53, 57, 62, 75, 76, 93, 96], 'c0-t6': [11, 25, 33, 34, 39, 72, 81, 97], 'c0-t5': [4, 7, 8, 9, 17, 35, 43, 49, 71, 83, 91, 93], 'c0-t4': [22, 23, 29, 60, 61], 'c0-t3': [1, 19, 25, 31, 36, 45, 50, 52, 61, 63, 67, 85, 87, 88, 90, 99], 'c0-t2': [3, 13, 18, 20, 21, 24, 28, 42, 56, 59, 68, 79, 85, 96, 98], 'c0-t1': [2, 7, 10, 12, 26, 32, 46, 70, 73, 74, 77, 78, 79, 80, 89, 90], 'c0-t0': [0, 16, 23, 28, 30, 38, 55, 65, 69, 82, 84, 86, 92, 94, 95], 'c3-t8': [301, 310, 314, 329, 337, 341, 343, 347, 350, 361, 365, 367, 376, 384, 393], 'c1-t3': [100, 101, 123, 132, 143, 157, 167, 168, 170, 175, 177, 184, 185, 187, 189, 195], 'c1-t8': [103, 107, 124, 125, 126, 128, 139, 140, 141, 163, 184, 189, 196, 197, 198], 'c1-t9': [109, 113, 116, 131, 135, 144, 145, 154, 156, 161, 166, 171, 181, 182, 186, 192], 'c0-t9': [5, 6, 19, 27, 36, 37, 56, 58, 64], 'c0-t8': [3, 15, 17, 44, 46, 48, 54, 66, 75, 88], 'c3-t5': [308, 318, 327, 356, 363, 369, 371, 383, 384, 386, 387, 389, 394], 'c4-t9': [400, 420, 446, 457, 460, 466, 484, 485, 488, 497], 'c4-t8': [413, 425, 435, 436, 437, 440, 441, 460, 478, 488, 489, 498, 499], 'c3-t2': [300, 307, 320, 324, 326, 328, 344, 349, 355, 374, 388, 395, 396, 398], 'c4-t3': [409, 412, 424, 431, 444, 454, 455, 494, 496, 497], 'c4-t2': [402, 404, 406, 411, 417, 418, 419, 422, 425, 426, 427, 428, 429, 432, 433, 438, 439, 449, 450, 458, 459, 461, 463, 465, 470, 474, 483, 487], 'c4-t1': [403, 416, 430, 438, 440, 452, 462, 467, 473, 474, 485, 492], 'c4-t0': [407, 446, 453, 464, 469, 471, 472, 480, 482, 490, 491, 498], 'c4-t7': [415, 427, 459, 486, 487, 495], 'c4-t6': [405, 408, 423, 434, 442, 443, 455, 456, 463, 468, 477, 495], 'c4-t5': [401, 410, 412, 414, 415, 416, 431, 445, 447, 451, 464, 475, 476, 481, 483, 493], 'c4-t4': [402, 421, 433, 448, 479, 482, 486, 494, 496]}\n"
     ]
    }
   ],
   "source": [
    "print teams"
   ]
  },
  {
   "cell_type": "markdown",
   "metadata": {},
   "source": [
    "-------------"
   ]
  },
  {
   "cell_type": "code",
   "execution_count": 9,
   "metadata": {},
   "outputs": [
    {
     "name": "stdout",
     "output_type": "stream",
     "text": [
      "Latent period: mean       = 2.978045550150493\n",
      "Latent period: median     = 2.627296012837549\n",
      "Latent period: 5  pctile  = 0.7505937525794931\n",
      "Latent period: 25 pctile  = 1.752109416818795\n",
      "Latent period: 75 pctile  = 3.82818289237308\n",
      "Latent period: 95 pctile  = 6.23186277915933\n",
      "SIGMA mean   = 0.5307868571131767\n",
      "SIGMA median = 0.38061963232934726\n",
      "Prodromal period: mean       = 2.240235740419454\n",
      "Prodromal period: median     = 2.027791070573743\n",
      "Prodromal period: 5  pctile  = 0.7562534801762061\n",
      "Prodromal period: 25 pctile  = 1.3850099120174377\n",
      "Prodromal period: 75 pctile  = 2.894135190392557\n",
      "Prodromal period: 95 pctile  = 4.444897439171636\n",
      "LAMDA mean   = 0.6082061461923365\n",
      "LAMDA median = 0.49314749277712255\n",
      "Incubation period: mean       = 5.218281290569947\n",
      "Incubation period: median     = 5.042171584351365\n",
      "Incubation period: 5  pctile  = 2.2600594945901613\n",
      "Incubation period: 25 pctile  = 3.662898887170207\n",
      "Incubation period: 75 pctile  = 6.4634841363384155\n",
      "Incubation period: 95 pctile  = 8.789170910080488\n",
      "Incubation period: 97.5 pctile  = 9.822261017658684\n"
     ]
    },
    {
     "data": {
      "image/png": "[encoded data removed]",
      "text/plain": [
       "<matplotlib.figure.Figure at 0x102923190>"
      ]
     },
     "metadata": {},
     "output_type": "display_data"
    }
   ],
   "source": [
    "latentPeriods_mean, latentPeriods_coeffvar = 3.0, 0.6\n",
    "latentPeriods_scale     = latentPeriods_mean*latentPeriods_coeffvar**2    \n",
    "latentPeriods_shape     = latentPeriods_mean/latentPeriods_scale          \n",
    "latentPeriods           = numpy.random.gamma(scale=latentPeriods_scale, shape=latentPeriods_shape, size=N)\n",
    "SIGMA  = 1 / latentPeriods\n",
    "print(\"Latent period: mean       = \" + str(numpy.mean(numpy.sort(latentPeriods))) )\n",
    "print(\"Latent period: median     = \"+str(numpy.percentile(numpy.sort(latentPeriods), q=50)) )\n",
    "print(\"Latent period: 5  pctile  = \"+str(numpy.percentile(numpy.sort(latentPeriods), q=5)) )\n",
    "print(\"Latent period: 25 pctile  = \"+str(numpy.percentile(numpy.sort(latentPeriods), q=25)) )\n",
    "print(\"Latent period: 75 pctile  = \"+str(numpy.percentile(numpy.sort(latentPeriods), q=75)) )\n",
    "print(\"Latent period: 95 pctile  = \"+str(numpy.percentile(numpy.sort(latentPeriods), q=95)) )\n",
    "print(\"SIGMA mean   = \" +str(numpy.mean(SIGMA)) )\n",
    "print(\"SIGMA median = \" +str(numpy.median(SIGMA)) )\n",
    "\n",
    "prodromalPeriod_mean, prodromalPeriod_coeffvar = 2.2, 0.5\n",
    "prodromalPeriod_scale   = prodromalPeriod_mean*prodromalPeriod_coeffvar**2    # gamma distn theta\n",
    "prodromalPeriod_shape   = prodromalPeriod_mean/prodromalPeriod_scale          # gamma distn k\n",
    "prodromalPeriods        = numpy.random.gamma(scale=prodromalPeriod_scale, shape=prodromalPeriod_shape, size=N)\n",
    "LAMDA = 1 / prodromalPeriods\n",
    "print(\"Prodromal period: mean       = \"+ str(numpy.mean(numpy.sort(prodromalPeriods))) )\n",
    "print(\"Prodromal period: median     = \"+str(numpy.percentile(numpy.sort(prodromalPeriods), q=50)) )\n",
    "print(\"Prodromal period: 5  pctile  = \"+str(numpy.percentile(numpy.sort(prodromalPeriods), q=5)) )\n",
    "print(\"Prodromal period: 25 pctile  = \"+str(numpy.percentile(numpy.sort(prodromalPeriods), q=25)) )\n",
    "print(\"Prodromal period: 75 pctile  = \"+str(numpy.percentile(numpy.sort(prodromalPeriods), q=75)) )\n",
    "print(\"Prodromal period: 95 pctile  = \"+str(numpy.percentile(numpy.sort(prodromalPeriods), q=95)) )\n",
    "print(\"LAMDA mean   = \" +str(numpy.mean(LAMDA)) )\n",
    "print(\"LAMDA median = \" +str(numpy.median(LAMDA)) )\n",
    "\n",
    "incubationPeriods = latentPeriods + prodromalPeriods\n",
    "print(\"Incubation period: mean       = \" + str(numpy.mean(numpy.sort(incubationPeriods))) )\n",
    "print(\"Incubation period: median     = \"+str(numpy.percentile(numpy.sort(incubationPeriods), q=50)) )\n",
    "print(\"Incubation period: 5  pctile  = \"+str(numpy.percentile(numpy.sort(incubationPeriods), q=5)) )\n",
    "print(\"Incubation period: 25 pctile  = \"+str(numpy.percentile(numpy.sort(incubationPeriods), q=25)) )\n",
    "print(\"Incubation period: 75 pctile  = \"+str(numpy.percentile(numpy.sort(incubationPeriods), q=75)) )\n",
    "print(\"Incubation period: 95 pctile  = \"+str(numpy.percentile(numpy.sort(incubationPeriods), q=95)) )\n",
    "print(\"Incubation period: 97.5 pctile  = \"+str(numpy.percentile(numpy.sort(incubationPeriods), q=97.5)) )\n",
    "\n",
    "pyplot.hist(prodromalPeriods, bins=range(int(max(prodromalPeriods))), alpha=0.75, color='darkorange', label='$I_{pre}$')\n",
    "pyplot.hist(latentPeriods, bins=range(int(max(latentPeriods))), alpha=0.75, color='gold', label='$E$')\n",
    "pyplot.hist(incubationPeriods, bins=range(int(max(incubationPeriods))), alpha=0.5, color='black', label='Pre-symptomatic')\n",
    "pyplot.xlim(0,30)\n",
    "pyplot.xlabel('period (days)')\n",
    "pyplot.ylabel('num nodes')\n",
    "pyplot.legend(loc='upper right')\n",
    "seaborn.despine()\n",
    "pyplot.show()\n",
    "# pyplot.savefig(figdir+\"/incubationPeriods\"+runStr+\".png\")\n",
    "pyplot.close()"
   ]
  },
  {
   "cell_type": "code",
   "execution_count": 10,
   "metadata": {},
   "outputs": [
    {
     "name": "stdout",
     "output_type": "stream",
     "text": [
      "Symptomatic period: mean       = 4.026972768066406\n",
      "Symptomatic period: median     = 3.8244024947718036\n",
      "Symptomatic period: 5  pctile  = 1.8490343489911096\n",
      "Symptomatic period: 25 pctile  = 2.7776374239707464\n",
      "Symptomatic period: 75 pctile  = 4.907088843192522\n",
      "Symptomatic period: 95 pctile  = 7.2149022819672926\n",
      "Symptomatic period: 99.9pctile = 8.486431238992497\n",
      "Symptomatic period: % in 7-10  = 0.062\n",
      "GAMMA mean   = 0.2968414745256146\n",
      "GAMMA median = 0.2614787542900793\n",
      "Infectious period: mean       = 6.267208508485859\n",
      "Infectious period: median     = 5.956668604767989\n",
      "Infectious period: 5  pctile  = 3.416590107933003\n",
      "Infectious period: 25 pctile  = 4.723912157129556\n",
      "Infectious period: 75 pctile  = 7.767267395916555\n",
      "Infectious period: 95 pctile  = 10.006286169505717\n"
     ]
    },
    {
     "data": {
      "image/png": "[encoded data removed]",
      "text/plain": [
       "<matplotlib.figure.Figure at 0x11df1e050>"
      ]
     },
     "metadata": {},
     "output_type": "display_data"
    }
   ],
   "source": [
    "symptomaticPeriod_mean, symptomaticPeriod_coeffvar = 4.0, 0.4\n",
    "symptomaticPeriod_scale     = symptomaticPeriod_mean*symptomaticPeriod_coeffvar**2    # gamma distn theta\n",
    "symptomaticPeriod_shape     = symptomaticPeriod_mean/symptomaticPeriod_scale          # gamma distn k\n",
    "symptomaticPeriods          = numpy.random.gamma(scale=symptomaticPeriod_scale, shape=symptomaticPeriod_shape, size=N)\n",
    "GAMMA = 1 / symptomaticPeriods\n",
    "print(\"Symptomatic period: mean       = \" + str(numpy.mean(numpy.sort(symptomaticPeriods))) )\n",
    "print(\"Symptomatic period: median     = \"+str(numpy.percentile(numpy.sort(symptomaticPeriods), q=50)) )\n",
    "print(\"Symptomatic period: 5  pctile  = \"+str(numpy.percentile(numpy.sort(symptomaticPeriods), q=5)) )\n",
    "print(\"Symptomatic period: 25 pctile  = \"+str(numpy.percentile(numpy.sort(symptomaticPeriods), q=25)) )\n",
    "print(\"Symptomatic period: 75 pctile  = \"+str(numpy.percentile(numpy.sort(symptomaticPeriods), q=75)) )\n",
    "print(\"Symptomatic period: 95 pctile  = \"+str(numpy.percentile(numpy.sort(symptomaticPeriods), q=95)) )\n",
    "print(\"Symptomatic period: 99.9pctile = \"+str(numpy.percentile(numpy.sort(symptomaticPeriods), q=99)) )\n",
    "print(\"Symptomatic period: % in 7-10  = \"+str(len(symptomaticPeriods[ numpy.where( (symptomaticPeriods >= 7)&(symptomaticPeriods <= 10) ) ])/len(symptomaticPeriods)) )\n",
    "print(\"GAMMA mean   = \" +str(numpy.mean(GAMMA)) )\n",
    "print(\"GAMMA median = \" +str(numpy.median(GAMMA)) )\n",
    "\n",
    "infectiousPeriods = prodromalPeriods + symptomaticPeriods\n",
    "print(\"Infectious period: mean       = \" + str(numpy.mean(numpy.sort(infectiousPeriods))) )\n",
    "print(\"Infectious period: median     = \"+str(numpy.percentile(numpy.sort(infectiousPeriods), q=50)) )\n",
    "print(\"Infectious period: 5  pctile  = \"+str(numpy.percentile(numpy.sort(infectiousPeriods), q=5)) )\n",
    "print(\"Infectious period: 25 pctile  = \"+str(numpy.percentile(numpy.sort(infectiousPeriods), q=25)) )\n",
    "print(\"Infectious period: 75 pctile  = \"+str(numpy.percentile(numpy.sort(infectiousPeriods), q=75)) )\n",
    "print(\"Infectious period: 95 pctile  = \"+str(numpy.percentile(numpy.sort(infectiousPeriods), q=95)) )\n",
    "\n",
    "pyplot.hist(prodromalPeriods, bins=range(int(max(prodromalPeriods))), alpha=0.75, color='darkorange', label='$I_{pre}$ period')\n",
    "pyplot.hist(symptomaticPeriods, bins=range(int(max(symptomaticPeriods))), alpha=0.75, color='crimson', label='$I_{S/A}$')\n",
    "pyplot.hist(infectiousPeriods, bins=range(int(max(infectiousPeriods))), alpha=0.5, color='black', label='Infectious')\n",
    "pyplot.xlim(0,30)\n",
    "pyplot.xlabel('period')\n",
    "pyplot.ylabel('num nodes')\n",
    "pyplot.legend(loc='upper right')\n",
    "seaborn.despine()\n",
    "pyplot.show()\n",
    "# pyplot.savefig(figdir+\"/infectiousPeriods\"+runStr+\".png\")\n",
    "pyplot.close()"
   ]
  },
  {
   "cell_type": "code",
   "execution_count": 11,
   "metadata": {},
   "outputs": [
    {
     "name": "stdout",
     "output_type": "stream",
     "text": [
      "Onset-to-Hospitalization period: mean       = 11.155125404842172\n",
      "Onset-to-Hospitalization period: median     = 10.467531095023116\n",
      "Onset-to-Hospitalization period: 5  pctile  = 4.130086574505802\n",
      "Onset-to-Hospitalization period: 25 pctile  = 7.7571301641880925\n",
      "Onset-to-Hospitalization period: 75 pctile  = 13.855423466561197\n",
      "Onset-to-Hospitalization period: 95 pctile  = 19.913099698522554\n",
      "ETA mean   = 0.1150903017524825\n",
      "ETA median = 0.0955335242953266\n",
      "Hospitalization-to-Discharge period: mean       = 11.443450679514445\n",
      "Hospitalization-to-Discharge period: median     = 10.482302925509236\n",
      "Hospitalization-to-Discharge period: 5  pctile  = 4.482576150299678\n",
      "Hospitalization-to-Discharge period: 25 pctile  = 7.39899975091624\n",
      "Hospitalization-to-Discharge period: 75 pctile  = 14.385334177555599\n",
      "Hospitalization-to-Discharge period: 95 pctile  = 21.456231592016735\n",
      "GAMMA_H mean   = 0.11121542044001657\n",
      "GAMMA_H median = 0.09539893523167128\n",
      "Onset-to-Discharge period: mean       = 22.598576084356615\n",
      "Onset-to-Discharge period: median     = 21.652053691833707\n",
      "Onset-to-Discharge period: 5  pctile  = 11.313535488441465\n",
      "Onset-to-Discharge period: 25 pctile  = 17.06609764152368\n",
      "Onset-to-Discharge period: 75 pctile  = 27.601458684642466\n",
      "Onset-to-Discharge period: 95 pctile  = 35.69499626638666\n"
     ]
    },
    {
     "data": {
      "image/png": "[encoded data removed]",
      "text/plain": [
       "<matplotlib.figure.Figure at 0x11df10150>"
      ]
     },
     "metadata": {},
     "output_type": "display_data"
    }
   ],
   "source": [
    "onsetToHospitalizationPeriod_mean, onsetToHospitalizationPeriod_coeffvar = 11.0, 0.45\n",
    "onsetToHospitalizationPeriod_scale  = onsetToHospitalizationPeriod_mean*onsetToHospitalizationPeriod_coeffvar**2    # gamma distn theta\n",
    "onsetToHospitalizationPeriod_shape  = onsetToHospitalizationPeriod_mean/onsetToHospitalizationPeriod_scale          # gamma distn k\n",
    "onsetToHospitalizationPeriods           = numpy.random.gamma(scale=onsetToHospitalizationPeriod_scale, shape=onsetToHospitalizationPeriod_shape, size=N)\n",
    "ETA = 1 / onsetToHospitalizationPeriods\n",
    "print(\"Onset-to-Hospitalization period: mean       = \" + str(numpy.mean(numpy.sort(onsetToHospitalizationPeriods))) )\n",
    "print(\"Onset-to-Hospitalization period: median     = \"+str(numpy.percentile(numpy.sort(onsetToHospitalizationPeriods), q=50)) )\n",
    "print(\"Onset-to-Hospitalization period: 5  pctile  = \"+str(numpy.percentile(numpy.sort(onsetToHospitalizationPeriods), q=5)) )\n",
    "print(\"Onset-to-Hospitalization period: 25 pctile  = \"+str(numpy.percentile(numpy.sort(onsetToHospitalizationPeriods), q=25)) )\n",
    "print(\"Onset-to-Hospitalization period: 75 pctile  = \"+str(numpy.percentile(numpy.sort(onsetToHospitalizationPeriods), q=75)) )\n",
    "print(\"Onset-to-Hospitalization period: 95 pctile  = \"+str(numpy.percentile(numpy.sort(onsetToHospitalizationPeriods), q=95)) )\n",
    "print(\"ETA mean   = \" +str(numpy.mean(ETA)) )\n",
    "print(\"ETA median = \" +str(numpy.median(ETA)) )\n",
    "\n",
    "hospitalizationToDischargePeriod_mean, hospitalizationToDischargePeriod_coeffvar = 11.0, 0.45\n",
    "hospitalizationToDischargePeriod_scale  = hospitalizationToDischargePeriod_mean*hospitalizationToDischargePeriod_coeffvar**2    # gamma distn theta\n",
    "hospitalizationToDischargePeriod_shape  = hospitalizationToDischargePeriod_mean/hospitalizationToDischargePeriod_scale          # gamma distn k\n",
    "hospitalizationToDischargePeriods       = numpy.random.gamma(scale=hospitalizationToDischargePeriod_scale, shape=hospitalizationToDischargePeriod_shape, size=N)\n",
    "GAMMA_H = 1 / hospitalizationToDischargePeriods\n",
    "print(\"Hospitalization-to-Discharge period: mean       = \" + str(numpy.mean(numpy.sort(hospitalizationToDischargePeriods))) )\n",
    "print(\"Hospitalization-to-Discharge period: median     = \"+str(numpy.percentile(numpy.sort(hospitalizationToDischargePeriods), q=50)) )\n",
    "print(\"Hospitalization-to-Discharge period: 5  pctile  = \"+str(numpy.percentile(numpy.sort(hospitalizationToDischargePeriods), q=5)) )\n",
    "print(\"Hospitalization-to-Discharge period: 25 pctile  = \"+str(numpy.percentile(numpy.sort(hospitalizationToDischargePeriods), q=25)) )\n",
    "print(\"Hospitalization-to-Discharge period: 75 pctile  = \"+str(numpy.percentile(numpy.sort(hospitalizationToDischargePeriods), q=75)) )\n",
    "print(\"Hospitalization-to-Discharge period: 95 pctile  = \"+str(numpy.percentile(numpy.sort(hospitalizationToDischargePeriods), q=95)) )\n",
    "print(\"GAMMA_H mean   = \" +str(numpy.mean(GAMMA_H)) )\n",
    "print(\"GAMMA_H median = \" +str(numpy.median(GAMMA_H)) )\n",
    "\n",
    "onsetToDischargePeriods = onsetToHospitalizationPeriods + hospitalizationToDischargePeriods\n",
    "print(\"Onset-to-Discharge period: mean       = \" + str(numpy.mean(numpy.sort(onsetToDischargePeriods))) )\n",
    "print(\"Onset-to-Discharge period: median     = \"+str(numpy.percentile(numpy.sort(onsetToDischargePeriods), q=50)) )\n",
    "print(\"Onset-to-Discharge period: 5  pctile  = \"+str(numpy.percentile(numpy.sort(onsetToDischargePeriods), q=5)) )\n",
    "print(\"Onset-to-Discharge period: 25 pctile  = \"+str(numpy.percentile(numpy.sort(onsetToDischargePeriods), q=25)) )\n",
    "print(\"Onset-to-Discharge period: 75 pctile  = \"+str(numpy.percentile(numpy.sort(onsetToDischargePeriods), q=75)) )\n",
    "print(\"Onset-to-Discharge period: 95 pctile  = \"+str(numpy.percentile(numpy.sort(onsetToDischargePeriods), q=95)) )\n",
    "\n",
    "pyplot.hist(onsetToHospitalizationPeriods, bins=range(int(max(onsetToHospitalizationPeriods))), alpha=0.5, color='crimson', label='Onset-to-hospitalization ($I_S$)')\n",
    "pyplot.hist(hospitalizationToDischargePeriods, bins=range(int(max(hospitalizationToDischargePeriods))), alpha=0.5, color='violet', label='Hospitalization-to-discharge ($H$)')\n",
    "pyplot.hist(onsetToDischargePeriods, bins=range(int(max(onsetToDischargePeriods))), alpha=0.5, color='black', label='Onset-to-discharge')\n",
    "pyplot.xlim(0,40)\n",
    "pyplot.xlabel('period')\n",
    "pyplot.ylabel('num nodes')\n",
    "pyplot.legend(loc='upper right')\n",
    "seaborn.despine()\n",
    "pyplot.show()\n",
    "# pyplot.savefig(figdir+\"/onsetToDischargePeriods\"+runStr+\".png\")\n",
    "pyplot.close()"
   ]
  },
  {
   "cell_type": "code",
   "execution_count": 12,
   "metadata": {},
   "outputs": [
    {
     "name": "stdout",
     "output_type": "stream",
     "text": [
      "Hospitalization-to-Death period: mean       = 6.9379343949065735\n",
      "Hospitalization-to-Death period: median     = 6.650122950856161\n",
      "Hospitalization-to-Death period: 5  pctile  = 2.711678218323395\n",
      "Hospitalization-to-Death period: 25 pctile  = 4.83000909755273\n",
      "Hospitalization-to-Death period: 75 pctile  = 8.803504163624645\n",
      "Hospitalization-to-Death period: 95 pctile  = 12.135583548800787\n",
      "0.286\n",
      "MU_H mean   = 0.17929912576289353\n",
      "MU_H median = 0.15037324044039652\n",
      "Onset-to-Death period: mean       = 18.093059799748747\n",
      "Onset-to-Death period: median     = 17.545871463935065\n",
      "Onset-to-Death period: 5  pctile  = 9.345233426856014\n",
      "Onset-to-Death period: 25 pctile  = 14.144384104816321\n",
      "Onset-to-Death period: 75 pctile  = 21.874712540269762\n",
      "Onset-to-Death period: 95 pctile  = 27.97222956942877\n"
     ]
    },
    {
     "data": {
      "image/png": "[encoded data removed]",
      "text/plain": [
       "<matplotlib.figure.Figure at 0x11dfb4a10>"
      ]
     },
     "metadata": {},
     "output_type": "display_data"
    }
   ],
   "source": [
    "hospitalizationToDeathPeriod_mean, hospitalizationToDeathPeriod_coeffvar = 7.0, 0.45\n",
    "hospitalizationToDeathPeriod_scale  = hospitalizationToDeathPeriod_mean*hospitalizationToDeathPeriod_coeffvar**2    # gamma distn theta\n",
    "hospitalizationToDeathPeriod_shape  = hospitalizationToDeathPeriod_mean/hospitalizationToDeathPeriod_scale          # gamma distn k\n",
    "hospitalizationToDeathPeriods       = numpy.random.gamma(scale=hospitalizationToDeathPeriod_scale, shape=hospitalizationToDeathPeriod_shape, size=N)\n",
    "MU_H = 1 / hospitalizationToDeathPeriods\n",
    "print(\"Hospitalization-to-Death period: mean       = \" + str(numpy.mean(numpy.sort(hospitalizationToDeathPeriods))) )\n",
    "print(\"Hospitalization-to-Death period: median     = \"+str(numpy.percentile(numpy.sort(hospitalizationToDeathPeriods), q=50)) )\n",
    "print(\"Hospitalization-to-Death period: 5  pctile  = \"+str(numpy.percentile(numpy.sort(hospitalizationToDeathPeriods), q=5)) )\n",
    "print(\"Hospitalization-to-Death period: 25 pctile  = \"+str(numpy.percentile(numpy.sort(hospitalizationToDeathPeriods), q=25)) )\n",
    "print(\"Hospitalization-to-Death period: 75 pctile  = \"+str(numpy.percentile(numpy.sort(hospitalizationToDeathPeriods), q=75)) )\n",
    "print(\"Hospitalization-to-Death period: 95 pctile  = \"+str(numpy.percentile(numpy.sort(hospitalizationToDeathPeriods), q=95)) )\n",
    "print(len(hospitalizationToDeathPeriods[ numpy.where( (hospitalizationToDeathPeriods >= 7)&(hospitalizationToDeathPeriods <= 10) ) ])/len(hospitalizationToDeathPeriods) )\n",
    "print(\"MU_H mean   = \" +str(numpy.mean(MU_H)) )\n",
    "print(\"MU_H median = \" +str(numpy.median(MU_H)) )\n",
    "\n",
    "onsetToDeathPeriods = onsetToHospitalizationPeriods + hospitalizationToDeathPeriods\n",
    "print(\"Onset-to-Death period: mean       = \" + str(numpy.mean(numpy.sort(onsetToDeathPeriods))) )\n",
    "print(\"Onset-to-Death period: median     = \"+str(numpy.percentile(numpy.sort(onsetToDeathPeriods), q=50)) )\n",
    "print(\"Onset-to-Death period: 5  pctile  = \"+str(numpy.percentile(numpy.sort(onsetToDeathPeriods), q=5)) )\n",
    "print(\"Onset-to-Death period: 25 pctile  = \"+str(numpy.percentile(numpy.sort(onsetToDeathPeriods), q=25)) )\n",
    "print(\"Onset-to-Death period: 75 pctile  = \"+str(numpy.percentile(numpy.sort(onsetToDeathPeriods), q=75)) )\n",
    "print(\"Onset-to-Death period: 95 pctile  = \"+str(numpy.percentile(numpy.sort(onsetToDeathPeriods), q=95)) )\n",
    "\n",
    "pyplot.hist(onsetToHospitalizationPeriods, bins=range(int(max(onsetToHospitalizationPeriods))), alpha=0.5, color='crimson', label='Onset-to-hospitalization ($I_S$)')\n",
    "pyplot.hist(hospitalizationToDeathPeriods, bins=range(int(max(hospitalizationToDeathPeriods))), alpha=0.5, color='violet', label='Hospitalization-to-death')\n",
    "pyplot.hist(onsetToDeathPeriods, bins=range(int(max(onsetToDeathPeriods))), alpha=0.5, color='black', label='Onset-to-death')\n",
    "pyplot.xlim(0,40)\n",
    "pyplot.xlabel('period')\n",
    "pyplot.ylabel('num nodes')\n",
    "pyplot.legend(loc='upper right')\n",
    "seaborn.despine()\n",
    "pyplot.show()\n",
    "# pyplot.savefig(figdir+\"/onsetToDeathPeriods\"+runStr+\".png\")\n",
    "pyplot.close()"
   ]
  },
  {
   "cell_type": "code",
   "execution_count": 13,
   "metadata": {},
   "outputs": [
    {
     "name": "stdout",
     "output_type": "stream",
     "text": [
      "R0: mean       = 1.983664933758877\n",
      "R0: median     = 1.9393102969824347\n",
      "R0: 5  pctile  = 1.4007586832617986\n",
      "R0: 25 pctile  = 1.7012718174973465\n",
      "R0: 50 pctile  = 1.9393102969824347\n",
      "R0: 75 pctile  = 2.227459442045845\n",
      "R0: 95 pctile  = 2.715179804403259\n",
      "R0: < mean: 56.6%\n",
      "R0: > 1:    100.0%\n",
      "R0: > 2:    43.4%\n",
      "R0: > 3:    1.6%\n",
      "R0: > 4:    0.0%\n",
      "R0: 80 pctile:   2.3071333183452625\n",
      "R0: Top 20 does: 0.26118971054889334\n"
     ]
    },
    {
     "data": {
      "image/png": "[encoded data removed]",
      "text/plain": [
       "<matplotlib.figure.Figure at 0x11e63b990>"
      ]
     },
     "metadata": {},
     "output_type": "display_data"
    }
   ],
   "source": [
    "R0_mean, R0_coeffvar = R0_mean, R0_coeffvar\n",
    "R0_scale      = R0_mean*R0_coeffvar**2    # gamma distn theta\n",
    "R0_shape      = R0_mean/R0_scale          # gamma distn k\n",
    "R0 = numpy.random.gamma(scale=R0_scale, shape=R0_shape, size=N)\n",
    "\n",
    "print(\"R0: mean       = \" + str(numpy.mean(numpy.sort(R0))) )\n",
    "print(\"R0: median     = \" + str(numpy.median(numpy.sort(R0))) )\n",
    "print(\"R0: 5  pctile  = \"+str(numpy.percentile(numpy.sort(R0), q=5)) )\n",
    "print(\"R0: 25 pctile  = \"+str(numpy.percentile(numpy.sort(R0), q=25)) )\n",
    "print(\"R0: 50 pctile  = \"+str(numpy.percentile(numpy.sort(R0), q=50)) )\n",
    "print(\"R0: 75 pctile  = \"+str(numpy.percentile(numpy.sort(R0), q=75)) )\n",
    "print(\"R0: 95 pctile  = \"+str(numpy.percentile(numpy.sort(R0), q=95)) )\n",
    "print \"R0: < mean: \"+str(numpy.count_nonzero(R0[R0 < R0_mean])/N*100)+\"%\"\n",
    "print \"R0: > 1:    \"+str(numpy.count_nonzero(R0[R0 > 1])/N*100)+\"%\"\n",
    "print \"R0: > 2:    \"+str(numpy.count_nonzero(R0[R0 > 2])/N*100)+\"%\"\n",
    "print \"R0: > 3:    \"+str(numpy.count_nonzero(R0[R0 > 3])/N*100)+\"%\"\n",
    "print \"R0: > 4:    \"+str(numpy.count_nonzero(R0[R0 > 4])/N*100)+\"%\"\n",
    "print \"R0: 80 pctile:   \"+str(numpy.percentile(numpy.sort(R0), q=80))\n",
    "print \"R0: Top 20 does: \"+str( numpy.sum(R0[R0 > numpy.percentile(numpy.sort(R0), q=80)])/numpy.sum(R0) )\n",
    "\n",
    "pyplot.hist(R0, bins=numpy.arange(0, int(max(R0+1)), step=0.1), alpha=0.5, color='crimson', label='$R_0$')\n",
    "pyplot.xlim(0,5)\n",
    "pyplot.xlabel('$R_0$')\n",
    "pyplot.ylabel('num nodes')\n",
    "pyplot.legend(loc='upper right')\n",
    "pyplot.show()\n",
    "# pyplot.savefig(figdir+\"/R0distn\"+runStr+\".png\")\n",
    "pyplot.close()"
   ]
  },
  {
   "cell_type": "code",
   "execution_count": 14,
   "metadata": {},
   "outputs": [
    {
     "name": "stdout",
     "output_type": "stream",
     "text": [
      "mean beta = 0.35622871699579994\n",
      "beta: mean       = 0.35622871699580005\n",
      "beta: 5  pctile  = 0.173372127789537\n",
      "beta: 25 pctile  = 0.24817876041017947\n",
      "beta: 50 pctile  = 0.3283468913976917\n",
      "beta: 75 pctile  = 0.43485838005876126\n",
      "beta: 95 pctile  = 0.601926311214441\n",
      "mean beta_D = 0.05343430754936999\n",
      "beta_Q: mean       = 0.053434307549369994\n",
      "beta_Q: 5  pctile  = 0.026005819168430547\n",
      "beta_Q: 25 pctile  = 0.03722681406152692\n",
      "beta_Q: 50 pctile  = 0.04925203370965375\n",
      "beta_Q: 75 pctile  = 0.06522875700881417\n",
      "beta_Q: 95 pctile  = 0.09028894668216614\n"
     ]
    }
   ],
   "source": [
    "BETA     = 1/infectiousPeriods * R0\n",
    "print(\"mean beta = \"+str(numpy.mean(BETA)) )\n",
    "print(\"beta: mean       = \" + str(numpy.mean(numpy.sort(BETA))) )\n",
    "print(\"beta: 5  pctile  = \"+str(numpy.percentile(numpy.sort(BETA), q=5)) )\n",
    "print(\"beta: 25 pctile  = \"+str(numpy.percentile(numpy.sort(BETA), q=25)) )\n",
    "print(\"beta: 50 pctile  = \"+str(numpy.percentile(numpy.sort(BETA), q=50)) )\n",
    "print(\"beta: 75 pctile  = \"+str(numpy.percentile(numpy.sort(BETA), q=75)) )\n",
    "print(\"beta: 95 pctile  = \"+str(numpy.percentile(numpy.sort(BETA), q=95)) )\n",
    "\n",
    "BETA_Q = BETA * (0.3/R0_mean) \n",
    "print(\"mean beta_D = \"+str(numpy.mean(BETA_Q)) )\n",
    "print(\"beta_Q: mean       = \" + str(numpy.mean(numpy.sort(BETA_Q))) )\n",
    "print(\"beta_Q: 5  pctile  = \"+str(numpy.percentile(numpy.sort(BETA_Q), q=5)) )\n",
    "print(\"beta_Q: 25 pctile  = \"+str(numpy.percentile(numpy.sort(BETA_Q), q=25)) )\n",
    "print(\"beta_Q: 50 pctile  = \"+str(numpy.percentile(numpy.sort(BETA_Q), q=50)) )\n",
    "print(\"beta_Q: 75 pctile  = \"+str(numpy.percentile(numpy.sort(BETA_Q), q=75)) )\n",
    "print(\"beta_Q: 95 pctile  = \"+str(numpy.percentile(numpy.sort(BETA_Q), q=95)) )"
   ]
  },
  {
   "cell_type": "code",
   "execution_count": 15,
   "metadata": {},
   "outputs": [
    {
     "name": "stdout",
     "output_type": "stream",
     "text": [
      "0.0422\n"
     ]
    }
   ],
   "source": [
    "# Source: Verity et al.\n",
    "ageGroup_pctHospitalized = {'0-9':      0.0000,\n",
    "                            '10-19':    0.0004,\n",
    "                            '20-29':    0.0104,\n",
    "                            '30-39':    0.0343,\n",
    "                            '40-49':    0.0425,\n",
    "                            '50-59':    0.0816,\n",
    "                            '60-69':    0.118,\n",
    "                            '70-79':    0.166,\n",
    "                            '80+':      0.184 }\n",
    "# PCT_HOSPITALIZED = [ageGroup_pctHospitalized[ageGroup] for ageGroup in individual_ageGroups]\n",
    "PCT_HOSPITALIZED = numpy.mean([ageGroup_pctHospitalized[age] for age in ['20-29', '30-39', '40-49', '50-59']])\n",
    "print PCT_HOSPITALIZED"
   ]
  },
  {
   "cell_type": "code",
   "execution_count": 16,
   "metadata": {},
   "outputs": [
    {
     "name": "stdout",
     "output_type": "stream",
     "text": [
      "0.080725\n"
     ]
    }
   ],
   "source": [
    "# Source: Verity et al.\n",
    "ageGroup_hospitalFatalityRate = {'0-9':     0.0000,\n",
    "                                 '10-19':   0.3627,\n",
    "                                 '20-29':   0.0577,\n",
    "                                 '30-39':   0.0426,\n",
    "                                 '40-49':   0.0694,\n",
    "                                 '50-59':   0.1532,\n",
    "                                 '60-69':   0.3381,\n",
    "                                 '70-79':   0.5187,\n",
    "                                 '80+':     0.7283 }\n",
    "# PCT_FATALITY = [ageGroup_hospitalFatalityRate[ageGroup] for ageGroup in individual_ageGroups]\n",
    "PCT_FATALITY = numpy.mean([ageGroup_hospitalFatalityRate[age] for age in ['20-29', '30-39', '40-49', '50-59']])\n",
    "print PCT_FATALITY"
   ]
  },
  {
   "cell_type": "code",
   "execution_count": 17,
   "metadata": {},
   "outputs": [],
   "source": [
    "TESTING_RANDOM_COMPLIANCE   = (numpy.random.rand(N) < TESTING_RANDOM_COMPLIANCE_RATE)\n",
    "TESTING_TRACED_COMPLIANCE   = (numpy.random.rand(N) < TESTING_TRACED_COMPLIANCE_RATE)\n",
    "TESTING_SELFSEEK_COMPLIANCE = (numpy.random.rand(N) < TESTING_SELFSEEK_COMPLIANCE_RATE)\n",
    "\n",
    "#~~~~~~~~~~~~~~~~~~~~~~~~~~~~~~~~~~~~~~~~~~~~~~~~~~\n",
    "\n",
    "TRACING_COMPLIANCE = (numpy.random.rand(N) < TRACING_COMPLIANCE_RATE)\n",
    "\n",
    "#~~~~~~~~~~~~~~~~~~~~~~~~~~~~~~~~~~~~~~~~~~~~~~~~~~\n",
    "\n",
    "SYMPTOMATIC_SEEKTEST_COMPLIANCE = (numpy.random.rand(N) < SYMPTOMATIC_SEEKTEST_COMPLIANCE_RATE)\n",
    "\n",
    "#~~~~~~~~~~~~~~~~~~~~~~~~~~~~~~~~~~~~~~~~~~~~~~~~~~\n",
    "\n",
    "SYMPTOMATIC_SELFISOLATE_COMPLIANCE = (numpy.random.rand(N) < SYMPTOMATIC_SELFISOLATE_COMPLIANCE_RATE)\n",
    "TRACING_SELFISOLATE_COMPLIANCE     = (numpy.random.rand(N) < TRACING_SELFISOLATE_COMPLIANCE_RATE)\n",
    "\n",
    "#~~~~~~~~~~~~~~~~~~~~~~~~~~~~~~~~~~~~~~~~~~~~~~~~~~\n",
    "\n",
    "COHORT_ISOLATION_COMPLIANCE = (numpy.random.rand(N) < COHORT_ISOLATION_COMPLIANCE_RATE)\n",
    "TEAM_ISOLATION_COMPLIANCE   = (numpy.random.rand(N) < TEAM_ISOLATION_COMPLIANCE_RATE)"
   ]
  },
  {
   "cell_type": "markdown",
   "metadata": {},
   "source": [
    "--------"
   ]
  },
  {
   "cell_type": "markdown",
   "metadata": {},
   "source": [
    "# SCENARIO"
   ]
  },
  {
   "cell_type": "code",
   "execution_count": 18,
   "metadata": {},
   "outputs": [
    {
     "name": "stderr",
     "output_type": "stream",
     "text": [
      "extended_models.py:484: RuntimeWarning: divide by zero encountered in log\n",
      "  self.alpha_Q             = numpy.log(self.degree_Q)/numpy.log(numpy.mean(self.degree_Q)) if self.parameters['alpha_Q'] is None else numpy.array(self.parameters['alpha_Q']) if isinstance(self.parameters['alpha_Q'], (list, numpy.ndarray)) else numpy.full(fill_value=self.parameters['alpha_Q'], shape=(self.numNodes,1))\n",
      "extended_models.py:484: RuntimeWarning: invalid value encountered in true_divide\n",
      "  self.alpha_Q             = numpy.log(self.degree_Q)/numpy.log(numpy.mean(self.degree_Q)) if self.parameters['alpha_Q'] is None else numpy.array(self.parameters['alpha_Q']) if isinstance(self.parameters['alpha_Q'], (list, numpy.ndarray)) else numpy.full(fill_value=self.parameters['alpha_Q'], shape=(self.numNodes,1))\n"
     ]
    }
   ],
   "source": [
    "model = ExtSEIRSNetworkModel(G=G, p=P_GLOBALINTXN,\n",
    "                                        beta=BETA, sigma=SIGMA, lamda=LAMDA, gamma=GAMMA, \n",
    "                                        gamma_asym=GAMMA, eta=ETA, gamma_H=GAMMA_H, mu_H=MU_H, \n",
    "                                        a=PCT_ASYMPTOMATIC, h=PCT_HOSPITALIZED, f=PCT_FATALITY,              \n",
    "                                        beta_pairwise_mode=BETA_PAIRWISE_MODE, alpha_pairwise_mode=ALPHA_PAIRWISE_MODE,\n",
    "                                        G_Q=G_Q, q=0, beta_Q=BETA_Q, isolation_time=14,\n",
    "                                        o=O_GLOBALINTXN, prevalence_ext=PREVALENCE_EXT,\n",
    "                                        initE=INIT_EXPOSED, transition_mode=TRANSITION_MODE)"
   ]
  },
  {
   "cell_type": "code",
   "execution_count": 19,
   "metadata": {},
   "outputs": [
    {
     "name": "stdout",
     "output_type": "stream",
     "text": [
      "[TESTING @ t = 3.05 (0.20% infected)]\n",
      "\t1 current undetected infections\n",
      "\t0 self-isolated due to symptoms (0 as housemates of symptomatic)\n",
      "\t0 isolated due to positive test (0 as teammates of positive, 0 as cohortmates of positive)\n",
      "\t0\ttested self-seek\t[+ 0 positive (0.00 %) +]\n",
      "\t0\ttested as traces\t[+ 0 positive (0.00 %) +]\n",
      "\t71\ttested randomly\t\t[+ 0 positive (0.00 %) +]\n",
      "\t71\ttested TOTAL\t[+ 0 positive (0.00 %) +]\n",
      "[TESTING @ t = 5.14 (0.40% infected)]\n",
      "\t2 current undetected infections\n",
      "\t1 self-isolated due to symptoms (0 as housemates of symptomatic)\n",
      "\t2 isolated due to positive test (36 as teammates of positive, 0 as cohortmates of positive)\n",
      "\t1\ttested self-seek\t[+ 1 positive (100.00 %) +]\n",
      "\t0\ttested as traces\t[+ 0 positive (0.00 %) +]\n",
      "\t70\ttested randomly\t\t[+ 1 positive (1.43 %) +]\n",
      "\t71\ttested TOTAL\t[+ 2 positive (2.82 %) +]\n",
      "[TESTING @ t = 6.47 (0.60% infected)]\n",
      "\t2 current undetected infections\n",
      "\t0 self-isolated due to symptoms (0 as housemates of symptomatic)\n",
      "\t0 isolated due to positive test (0 as teammates of positive, 0 as cohortmates of positive)\n",
      "\t0\ttested self-seek\t[+ 0 positive (0.00 %) +]\n",
      "\t0\ttested as traces\t[+ 0 positive (0.00 %) +]\n",
      "\t71\ttested randomly\t\t[+ 0 positive (0.00 %) +]\n",
      "\t71\ttested TOTAL\t[+ 0 positive (0.00 %) +]\n",
      "[TESTING @ t = 8.34 (0.60% infected)]\n",
      "\t2 current undetected infections\n",
      "\t0 self-isolated due to symptoms (0 as housemates of symptomatic)\n",
      "\t2 isolated due to positive test (50 as teammates of positive, 0 as cohortmates of positive)\n",
      "\t0\ttested self-seek\t[+ 0 positive (0.00 %) +]\n",
      "\t34\ttested as traces\t[+ 2 positive (5.88 %) +]\n",
      "\t37\ttested randomly\t\t[+ 0 positive (0.00 %) +]\n",
      "\t71\ttested TOTAL\t[+ 2 positive (2.82 %) +]\n",
      "[TESTING @ t = 10.45 (0.40% infected)]\n",
      "\t1 current undetected infections\n",
      "\t0 self-isolated due to symptoms (0 as housemates of symptomatic)\n",
      "\t1 isolated due to positive test (30 as teammates of positive, 0 as cohortmates of positive)\n",
      "\t1\ttested self-seek\t[+ 1 positive (100.00 %) +]\n",
      "\t0\ttested as traces\t[+ 0 positive (0.00 %) +]\n",
      "\t70\ttested randomly\t\t[+ 0 positive (0.00 %) +]\n",
      "\t71\ttested TOTAL\t[+ 1 positive (1.41 %) +]\n",
      "[TESTING @ t = 13.51 (0.40% infected)]\n",
      "\t0 current undetected infections\n",
      "\t0 self-isolated due to symptoms (0 as housemates of symptomatic)\n",
      "\t0 isolated due to positive test (0 as teammates of positive, 0 as cohortmates of positive)\n",
      "\t0\ttested self-seek\t[+ 0 positive (0.00 %) +]\n",
      "\t32\ttested as traces\t[+ 0 positive (0.00 %) +]\n",
      "\t39\ttested randomly\t\t[+ 0 positive (0.00 %) +]\n",
      "\t71\ttested TOTAL\t[+ 0 positive (0.00 %) +]\n",
      "[TESTING @ t = 15.36 (0.20% infected)]\n",
      "\t0 current undetected infections\n",
      "\t0 self-isolated due to symptoms (0 as housemates of symptomatic)\n",
      "\t0 isolated due to positive test (0 as teammates of positive, 0 as cohortmates of positive)\n",
      "\t0\ttested self-seek\t[+ 0 positive (0.00 %) +]\n",
      "\t13\ttested as traces\t[+ 0 positive (0.00 %) +]\n",
      "\t58\ttested randomly\t\t[+ 0 positive (0.00 %) +]\n",
      "\t71\ttested TOTAL\t[+ 0 positive (0.00 %) +]\n",
      "[TESTING @ t = 19.64 (0.00% infected)]\n",
      "\t0 current undetected infections\n",
      "\t0 self-isolated due to symptoms (0 as housemates of symptomatic)\n",
      "\t0 isolated due to positive test (0 as teammates of positive, 0 as cohortmates of positive)\n",
      "\t0\ttested self-seek\t[+ 0 positive (0.00 %) +]\n",
      "\t0\ttested as traces\t[+ 0 positive (0.00 %) +]\n",
      "\t71\ttested randomly\t\t[+ 0 positive (0.00 %) +]\n",
      "\t71\ttested TOTAL\t[+ 0 positive (0.00 %) +]\n"
     ]
    }
   ],
   "source": [
    "interventionInterval = run_workplace_testing_sim(\n",
    "                              model=model, T=T, intervention_start_pct_infected=INTERVENTION_START_PCT_INFECTED,\n",
    "                              testing_interval=TESTING_INTERVAL, tests_per_interval=TESTS_PER_INTERVAL, test_falseneg_rate=TEST_FALSENEG_RATE,\n",
    "                              do_random_testing=DO_RANDOM_TESTING, testing_random_compliance=TESTING_RANDOM_COMPLIANCE, testing_degree_bias=TESTING_DEGREE_BIAS,\n",
    "                              do_tracing_testing=DO_TRACING_TESTING, tracing_compliance=TRACING_COMPLIANCE, testing_traced_compliance=TESTING_TRACED_COMPLIANCE, max_pct_tests_for_tracing=MAX_PCT_TESTS_FOR_TRACING, num_contacts_to_trace=NUM_CONTACTS_TO_TRACE, frac_contacts_to_trace=FRAC_CONTACTS_TO_TRACE, tracing_interval_lag=TRACING_INTERVAL_LAG,\n",
    "                              do_seeking_testing=DO_SEEKING_TESTING, symptomatic_seektest_compliance=SYMPTOMATIC_SEEKTEST_COMPLIANCE, testing_selfseek_compliance=TESTING_SELFSEEK_COMPLIANCE, max_pct_tests_for_seeking=MAX_PCT_TESTS_FOR_SEEKING,\n",
    "                              do_symptom_selfiso=DO_SYMPTOM_SELFISO, symptomatic_selfiso_compliance=SYMPTOMATIC_SELFISOLATE_COMPLIANCE, \n",
    "                              do_tracing_selfiso=DO_TRACING_SELFISO, tracing_selfiso_compliance=TRACING_SELFISOLATE_COMPLIANCE,\n",
    "                              isolate_positive_cohorts=DO_ISOLATE_POSITIVE_COHORTS, cohort_isolation_compliance=COHORT_ISOLATION_COMPLIANCE, cohorts=cohorts,\n",
    "                              isolate_positive_teams=DO_ISOLATE_POSITIVE_TEAMS, team_isolation_compliance=TEAM_ISOLATION_COMPLIANCE, teams=teams,\n",
    "                              introduction_interval=1, average_introductions_per_interval=0/30\n",
    "                            )"
   ]
  },
  {
   "cell_type": "code",
   "execution_count": 20,
   "metadata": {},
   "outputs": [
    {
     "name": "stdout",
     "output_type": "stream",
     "text": [
      "total percent infected: 0.60%\n",
      "total percent fatality: 0.00%\n",
      "peak  pct hospitalized: 0.20%\n"
     ]
    }
   ],
   "source": [
    "print(\"total percent infected: %0.2f%%\" % ((model.total_num_infected()[-1]+model.total_num_recovered()[-1])/N * 100) )\n",
    "print(\"total percent fatality: %0.2f%%\" % (model.numF[-1]/N * 100) )\n",
    "print(\"peak  pct hospitalized: %0.2f%%\" % (numpy.max(model.numH)/N * 100) )"
   ]
  },
  {
   "cell_type": "markdown",
   "metadata": {},
   "source": [
    "--------"
   ]
  },
  {
   "cell_type": "code",
   "execution_count": 21,
   "metadata": {},
   "outputs": [
    {
     "data": {
      "image/png": "[encoded data removed]",
      "text/plain": [
       "<matplotlib.figure.Figure at 0x11e62de90>"
      ]
     },
     "metadata": {},
     "output_type": "display_data"
    }
   ],
   "source": [
    "fig, ax = model.figure_infections(combine_Q_infected=False, show=False, use_seaborn=False,\n",
    "                                    plot_Q_R='stacked', #plot_R='stacked', \n",
    "                                    plot_Q_S='stacked', #plot_S='stacked', \n",
    "                                    vlines=[interventionInterval[0]],\n",
    "                                    ylim=1, xlim=300\n",
    "                                 )"
   ]
  },
  {
   "cell_type": "code",
   "execution_count": 22,
   "metadata": {},
   "outputs": [
    {
     "data": {
      "text/plain": [
       "[<matplotlib.lines.Line2D at 0x11de17a50>]"
      ]
     },
     "execution_count": 22,
     "metadata": {},
     "output_type": "execute_result"
    },
    {
     "data": {
      "image/png": "[encoded data removed]",
      "text/plain": [
       "<matplotlib.figure.Figure at 0x11bc5b3d0>"
      ]
     },
     "metadata": {},
     "output_type": "display_data"
    }
   ],
   "source": [
    "fig, ax = pyplot.subplots(figsize=(16,9))\n",
    "ax.plot(model.tseries, model.total_num_infected(), color='tab:red')\n",
    "ax.plot(model.tseries, model.total_num_recovered(), color='tab:blue')\n",
    "ax.plot(model.tseries, model.total_num_isolated(), color='tab:orange')\n",
    "ax.plot(model.tseries, model.total_num_positive(), color='tab:green')"
   ]
  },
  {
   "cell_type": "code",
   "execution_count": null,
   "metadata": {},
   "outputs": [],
   "source": []
  },
  {
   "cell_type": "code",
   "execution_count": null,
   "metadata": {},
   "outputs": [],
   "source": []
  }
 ],
 "metadata": {
  "kernelspec": {
   "display_name": "Python 3",
   "language": "python",
   "name": "python3"
  },
  "language_info": {
   "codemirror_mode": {
    "name": "ipython",
    "version": 3
   },
   "file_extension": ".py",
   "mimetype": "text/x-python",
   "name": "python",
   "nbconvert_exporter": "python",
   "pygments_lexer": "ipython3",
   "version": "3.6.5"
  }
 },
 "nbformat": 4,
 "nbformat_minor": 2
}
